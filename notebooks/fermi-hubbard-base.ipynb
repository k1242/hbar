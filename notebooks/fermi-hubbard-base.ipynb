{
 "cells": [
  {
   "cell_type": "code",
   "execution_count": 1,
   "id": "a8f8794a",
   "metadata": {
    "ExecuteTime": {
     "end_time": "2025-02-24T03:38:38.290957Z",
     "start_time": "2025-02-24T03:38:35.862636Z"
    }
   },
   "outputs": [],
   "source": [
    "import os\n",
    "os.chdir(\"..\")\n",
    "\n",
    "import torch\n",
    "import networkx as nx\n",
    "from math import comb\n",
    "from hbar.hamiltonian import Hamiltonian\n",
    "from hbar.utils import H2M, H2P\n",
    "from hbar.krylov import step\n",
    "\n",
    "import numpy as np\n",
    "import matplotlib.pyplot as plt\n",
    "plt.rcParams[\"font.family\"] = \"serif\"\n",
    "from tqdm import tqdm\n",
    "\n",
    "import matplotlib.animation as animation\n",
    "from IPython.display import HTML"
   ]
  },
  {
   "cell_type": "code",
   "execution_count": 2,
   "id": "a4f50619",
   "metadata": {
    "ExecuteTime": {
     "end_time": "2025-02-24T03:38:38.301399Z",
     "start_time": "2025-02-24T03:38:38.295723Z"
    }
   },
   "outputs": [],
   "source": [
    "device = torch.device('cpu') # 'cpu', 'cuda'"
   ]
  },
  {
   "cell_type": "code",
   "execution_count": 3,
   "id": "ac6d1084",
   "metadata": {
    "ExecuteTime": {
     "end_time": "2025-02-24T03:38:38.312374Z",
     "start_time": "2025-02-24T03:38:38.304666Z"
    }
   },
   "outputs": [
    {
     "name": "stdout",
     "output_type": "stream",
     "text": [
      "(u 120, d 120, ud 14_400)\n"
     ]
    }
   ],
   "source": [
    "n_u, n_d, L0, L1 = 2, 2, 4, 4\n",
    "L = L0 * L1\n",
    "N_u = comb(L, n_u)\n",
    "N_d = comb(L, n_d)\n",
    "print(f\"(u {N_u:_}, d {N_d:_}, ud {N_u * N_d:_})\")"
   ]
  },
  {
   "cell_type": "code",
   "execution_count": 4,
   "id": "cbfea5f2",
   "metadata": {
    "ExecuteTime": {
     "end_time": "2025-02-24T03:38:38.413784Z",
     "start_time": "2025-02-24T03:38:38.317190Z"
    }
   },
   "outputs": [],
   "source": [
    "adj_mat = torch.tensor(nx.adjacency_matrix(nx.grid_2d_graph(L0, L1)).toarray(), device=device)\n",
    "potential = torch.zeros((L,), device=device, dtype=torch.float32)\n",
    "H = Hamiltonian(n_u, n_d, adj_mat, potential, device=device, t=1, u=1, v=1)"
   ]
  },
  {
   "cell_type": "code",
   "execution_count": 5,
   "id": "e70d1594",
   "metadata": {
    "ExecuteTime": {
     "end_time": "2025-02-24T03:38:38.426380Z",
     "start_time": "2025-02-24T03:38:38.416461Z"
    }
   },
   "outputs": [],
   "source": [
    "ic_up = torch.tensor([\n",
    "    [1,0,0,0],\n",
    "    [0,0,0,0],\n",
    "    [0,0,0,0],\n",
    "    [0,0,0,1]\n",
    "], device=device).view(-1)\n",
    "ic_down = torch.tensor([\n",
    "    [0,0,0,1],\n",
    "    [0,0,0,0],\n",
    "    [0,0,0,0],\n",
    "    [1,0,0,0]\n",
    "], device=device).view(-1)\n",
    "ic_up = (ic_up * (1 << torch.arange(L, device=device))).sum()\n",
    "ic_up = (H.up == ic_up).nonzero()[0,0]\n",
    "ic_down = (ic_down * (1 << torch.arange(L, device=device))).sum()\n",
    "ic_down = (H.down == ic_down).nonzero()[0,0]"
   ]
  },
  {
   "cell_type": "code",
   "execution_count": 16,
   "id": "68b919f1",
   "metadata": {
    "ExecuteTime": {
     "end_time": "2025-02-24T03:40:20.289842Z",
     "start_time": "2025-02-24T03:40:13.728092Z"
    }
   },
   "outputs": [
    {
     "name": "stderr",
     "output_type": "stream",
     "text": [
      "100%|██████████| 200/200 [00:06<00:00, 30.55it/s]\n"
     ]
    }
   ],
   "source": [
    "dt = 0.25\n",
    "tmax = 50\n",
    "nsteps = round(tmax/dt)\n",
    "t = np.linspace(0, tmax, nsteps)\n",
    "\n",
    "psi0 = torch.zeros((N_u, N_d), dtype=torch.complex128).to(device)\n",
    "psi0[ic_up, ic_down] = 1\n",
    "\n",
    "psi = psi0.clone().to(device)\n",
    "p_up_log = torch.zeros((nsteps, N_u), device=device)\n",
    "p_down_log = torch.zeros((nsteps, N_d), device=device)\n",
    "for j in tqdm(range(nsteps)):\n",
    "    p = torch.abs(psi)**2\n",
    "    p_up_log[j] = torch.sum(p, dim=1)\n",
    "    p_down_log[j] = torch.sum(p, dim=0)\n",
    "    psi = step(psi, H, dt, K=10)\n",
    "\n",
    "f_up_log = torch.sum(((H.up[None, :, None] & (1 << H.site_idx[None, None, :])) != 0) * p_up_log[:, :, None], dim=1).cpu()\n",
    "f_down_log = torch.sum(((H.down[None, :, None] & (1 << H.site_idx[None, None, :])) != 0) * p_down_log[:, :, None], dim=1).cpu()"
   ]
  },
  {
   "cell_type": "code",
   "execution_count": 17,
   "id": "059aabce",
   "metadata": {
    "ExecuteTime": {
     "end_time": "2025-02-24T03:40:20.975559Z",
     "start_time": "2025-02-24T03:40:20.963409Z"
    }
   },
   "outputs": [
    {
     "data": {
      "text/plain": [
       "-6.288372600415926e-16"
      ]
     },
     "execution_count": 17,
     "metadata": {},
     "output_type": "execute_result"
    }
   ],
   "source": [
    "H.E(psi0) - H.E(psi)"
   ]
  },
  {
   "cell_type": "code",
   "execution_count": 20,
   "id": "94db76bc",
   "metadata": {
    "ExecuteTime": {
     "end_time": "2025-02-24T03:40:28.333515Z",
     "start_time": "2025-02-24T03:40:28.165209Z"
    }
   },
   "outputs": [
    {
     "data": {
      "image/png": "[encoded data removed]",
      "text/plain": [
       "<Figure size 300x300 with 1 Axes>"
      ]
     },
     "metadata": {},
     "output_type": "display_data"
    }
   ],
   "source": [
    "def quad_info(fu, fd):\n",
    "    diag_u = fu[:, :L0//2, :L1//2].sum(dim=(1,2)) + fu[:, L0//2:, L1//2:].sum(dim=(1,2))\n",
    "    diag_d = fd[:, :L0//2, :L1//2].sum(dim=(1,2)) + fd[:, L0//2:, L1//2:].sum(dim=(1,2))\n",
    "    imb_s = (diag_u - diag_d) / (diag_u + diag_d)\n",
    "    imb_f = (fu.std(dim=(1,2)) + fd.std(dim=(1,2)))/2\n",
    "    return imb_s, imb_f/imb_f.max()\n",
    "\n",
    "fig, ax = plt.subplots(1, 1, figsize=(3,3))\n",
    "imb_s, imb_f = quad_info(fu, fd)\n",
    "ax.plot(t, torch.abs(imb_s), color='blue', alpha=0.7)\n",
    "ax.plot(t, torch.abs(imb_f), color='red', alpha=0.7)\n",
    "ax.set_xlabel(\"time, 1/t\")\n",
    "ax.set_ylabel(\"imbalance\")\n",
    "# ax.set_ylim(0.001, 2)\n",
    "ax.set_title(f'u={1}, v={1}', size=10)\n",
    "# ax.set_yscale('log')\n",
    "# ax.set_xscale('log')\n",
    "plt.tight_layout()\n",
    "plt.show()"
   ]
  },
  {
   "cell_type": "code",
   "execution_count": 21,
   "id": "32027c79",
   "metadata": {
    "ExecuteTime": {
     "end_time": "2025-02-24T03:40:38.243264Z",
     "start_time": "2025-02-24T03:40:38.237926Z"
    }
   },
   "outputs": [],
   "source": [
    "# fu, fd = f_up_log.cpu().view(nsteps, L0, L1), f_down_log.cpu().view(nsteps, L0, L1)\n",
    "\n",
    "# vmax = 0.1\n",
    "# fig, ax = plt.subplots(1, 1, figsize=(3,3))\n",
    "# im_u = ax.matshow(fu[0], cmap='Reds', alpha=1, vmin=0, vmax=vmax)\n",
    "# im_d = ax.matshow(fd[0], cmap='Blues', alpha=0.5, vmin=0, vmax=vmax)\n",
    "# ax.set_xticks([])\n",
    "# ax.set_yticks([])\n",
    "\n",
    "# def update(frame):\n",
    "#     im_u.set_array(fu[frame])\n",
    "#     im_d.set_array(fd[frame])\n",
    "#     return im_u, im_d\n",
    "\n",
    "# ani = animation.FuncAnimation(fig, update, frames=nsteps, interval=50)\n",
    "# plt.close(fig)\n",
    "\n",
    "# HTML(ani.to_jshtml())"
   ]
  },
  {
   "cell_type": "code",
   "execution_count": null,
   "id": "e15a863b",
   "metadata": {},
   "outputs": [],
   "source": []
  }
 ],
 "metadata": {
  "kernelspec": {
   "display_name": "Python (ka1242_env)",
   "language": "python",
   "name": "ka1242_env"
  },
  "language_info": {
   "codemirror_mode": {
    "name": "ipython",
    "version": 3
   },
   "file_extension": ".py",
   "mimetype": "text/x-python",
   "name": "python",
   "nbconvert_exporter": "python",
   "pygments_lexer": "ipython3",
   "version": "3.9.16"
  }
 },
 "nbformat": 4,
 "nbformat_minor": 5
}
